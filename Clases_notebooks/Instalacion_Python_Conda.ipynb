{
 "cells": [
  {
   "cell_type": "markdown",
   "id": "f02ca9bc",
   "metadata": {
    "lang": "es"
   },
   "source": [
    "## Configuración de su entorno de Python con conda (recomendable)\n",
    "\n",
    "Este es un pequeño tutorial de como configurar e instalar python usando\n",
    "\n",
    "**Conda**\n",
    "\n",
    "Si está utilizando conda (recomiendo instalar conda a través de [Miniforge](https://github.com/conda-forge/miniforge) o [Miniconda](https://docs.conda.io/en/latest/miniconda.html)), puede crear un nuevo entorno de la siguiente manera:\n",
    "\n",
    "```bash\n",
    "conda create -n \"diploIA\" python=3.9 numpy=1.21.2 scipy=1.7.0 scikit-learn=1.0 matplotlib=3.4.3 pandas=1.3.2\n",
    "```\n",
    "\n",
    "Después de crear este entorno, puede activarlo a través de\n",
    "\n",
    "```bash\n",
    "conda activate \"diploIA\"\n",
    "```"
   ]
  },
  {
   "cell_type": "markdown",
   "id": "3f59aaf3",
   "metadata": {
    "lang": "es"
   },
   "source": [
    "**Pip y virtualenv**\n",
    "\n",
    "Si prefiere usar `pip`, puede continuar con conda e instalar los paquetes necesarios a través de\n",
    "\n",
    "```bash\n",
    "pip install numpy==1.21.2 scipy==1.7.0 scikit-learn==1.0 matplotlib==3.4.3 pandas==1.3.2\n",
    "```\n",
    "\n",
    "Una alternativa es crear un nuevo entorno virtual con una versión específica de Python usando [virtualenv](https://virtualenv.pypa.io/en/latest/) de la siguiente manera:\n",
    "\n",
    "```bash\n",
    "pip instalar virtualenv\n",
    "cd /ruta/hacia/donde/usted/quiere/su/entorno\n",
    "virtualenv diploIA\n",
    "source diploIA/bin/activate\n",
    "```\n",
    "\n",
    "Después de activar su entorno, puede instalar los paquetes necesarios a través de\n",
    "\n",
    "```bash\n",
    "pip install numpy==1.21.2 scipy==1.7.0 scikit-learn==1.0 matplotlib==3.4.3 pandas==1.3.2\n",
    "```"
   ]
  },
  {
   "cell_type": "markdown",
   "id": "7be64d37",
   "metadata": {
    "lang": "es"
   },
   "source": [
    "## Cuadernos Jupyter\n",
    "\n",
    "Los archivos que tienen extensión `.ipynb` son notebooks de Jupyter (anteriormente conocidos como notebooks de IPython).\n",
    "\n",
    "En comparación con los scripts `.py`normales, los notebooks de Jupyter nos permiten tener todo en un solo lugar:\n",
    "\n",
    "- Nuestro código.\n",
    "- Los resultados de ejecutar el código.\n",
    "- Gráficos de nuestros datos.\n",
    "- Documentación que respalda los experimentos usando sintaxis de Markdown y LaTeX para escribir y representar notación matemática.\n",
    "\n",
    "Consulte el sitio web https://jupyter.org/install para obtener las instrucciones de instalación más recientes.\n",
    "\n",
    "Dos aplicaciones oficiales pueden abrir noteboks de Jupyter son: la aplicación de `Jupyter Notebook` original y la aplicación `Jupyter Lab` más nueva (y [VSCode](https://code.visualstudio.com/) que también es compatible con Jupyter Notebook). \n",
    "\n",
    "*Jupyter Lab* se puede instalar a través de\n",
    "\n",
    "```bash\n",
    "conda install -c conda-forge jupyterlab\n",
    "```\n",
    "\n",
    "o\n",
    "\n",
    "```bash\n",
    "pip install jupyterlab\n",
    "```\n",
    "\n",
    "Para instalar el *Jupyter Notebook* clásico basta con ejecutar\n",
    "\n",
    "```bash\n",
    "conda install -c conda-forge notebook\n",
    "```\n",
    "\n",
    "o \n",
    "\n",
    "```bash\n",
    "pip install notebook\n",
    "```\n"
   ]
  }
 ],
 "metadata": {
  "kernelspec": {
   "display_name": "Python 3 (ipykernel)",
   "language": "python",
   "name": "python3"
  },
  "language_info": {
   "codemirror_mode": {
    "name": "ipython",
    "version": 3
   },
   "file_extension": ".py",
   "mimetype": "text/x-python",
   "name": "python",
   "nbconvert_exporter": "python",
   "pygments_lexer": "ipython3",
   "version": "3.10.2"
  },
  "nbTranslate": {
   "displayLangs": [
    "es",
    "en"
   ],
   "hotkey": "alt-t",
   "langInMainMenu": true,
   "sourceLang": "en",
   "targetLang": "es",
   "useGoogleTranslate": true
  }
 },
 "nbformat": 4,
 "nbformat_minor": 5
}
